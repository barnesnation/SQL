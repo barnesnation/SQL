{
 "cells": [
  {
   "cell_type": "markdown",
   "id": "bf17eebd",
   "metadata": {},
   "source": [
    "<div align=\"right\" style=\" font-size: 80%; text-align: center; margin: 0 auto\">\n",
    "<img src=\"https://raw.githubusercontent.com/Explore-AI/Pictures/master/ExploreAI_logos/Logo blue_dark.png\"  style=\"width:25px\" align=\"right\";/>\n",
    "</div>"
   ]
  },
  {
   "cell_type": "markdown",
   "id": "f662d169",
   "metadata": {},
   "source": [
    "# SQL Exam\n",
    "© ExploreAI Academy"
   ]
  },
  {
   "cell_type": "markdown",
   "id": "26af890c",
   "metadata": {},
   "source": [
    "## Instructions to students\n",
    "\n",
    "This challenge is designed to determine how much you have learned so far and will test your knowledge on SQL.\n",
    "\n",
    "The answers for this challenge should be selected on Athena for each corresponding multiple-choice question. The questions are included in this notebook and are numbered according to the Athena questions. The options for each question have also been included.\n",
    "\n",
    "Do not add or remove cells in this notebook. Do not edit or remove the `%%sql` comment as it is required to run each cell.\n",
    "\n",
    "**_Good luck!_**"
   ]
  },
  {
   "cell_type": "markdown",
   "id": "092d3f5e",
   "metadata": {},
   "source": [
    "## Honour code\n",
    "\n",
    "I, YOUR NAME YOUR SURNAME, confirm – by submitting this document – that the solutions in this notebook are a result of my own work and that I abide by the EDSA honour code (https://drive.google.com/file/d/1QDCjGZJ8-FmJE3bZdIQNwnJyQKPhHZBn/view?usp=sharing).\n",
    "\n",
    "Non-compliance with the honour code constitutes a material breach of contract."
   ]
  },
  {
   "cell_type": "markdown",
   "id": "b6bdd20c",
   "metadata": {},
   "source": [
    "## The TMDb database\n",
    "\n",
    "In this supplementary exam, you will be exploring [The Movie Database](https://www.themoviedb.org/) – an online movie and TV show database that houses some of the most popular movies and TV shows at your fingertips. The TMDb database supports 39 official languages used in over 180 countries daily and dates back all the way to 2008. \n",
    "\n",
    "\n",
    "<img src=\"https://github.com/Explore-AI/Pictures/blob/master/sql_tmdb.jpg?raw=true\" width=80%/>\n",
    "\n",
    "\n",
    "Below is an Entity Relationship Diagram (ERD) of the TMDb database:\n",
    "\n",
    "<img src=\"https://github.com/Explore-AI/Pictures/blob/master/TMDB_ER_diagram.png?raw=true\" width=70%/>\n",
    "\n",
    "As can be seen from the ERD, the TMDb database consists of `12 tables` containing information about movies, cast, genre, and so much more.  \n",
    "\n",
    "Let's get started!"
   ]
  },
  {
   "cell_type": "markdown",
   "id": "5a0b7683",
   "metadata": {
    "tags": []
   },
   "source": [
    "## Loading the database\n",
    "\n",
    "Before you begin, you need to prepare your SQL environment.  You can do this by loading the magic command `%load_ext sql`."
   ]
  },
  {
   "cell_type": "code",
   "execution_count": 1,
   "id": "0f34ea72",
   "metadata": {},
   "outputs": [],
   "source": [
    "%load_ext sql"
   ]
  },
  {
   "cell_type": "markdown",
   "id": "3f78b691",
   "metadata": {},
   "source": [
    "Next, go ahead and load your database. To do this, you will need to ensure you have downloaded the `TMDB.db` sqlite file from Athena and have stored it in a known location."
   ]
  },
  {
   "cell_type": "code",
   "execution_count": 3,
   "id": "d279a04d",
   "metadata": {},
   "outputs": [
    {
     "data": {
      "text/plain": [
       "'Connected: @TMDB.db'"
      ]
     },
     "execution_count": 3,
     "metadata": {},
     "output_type": "execute_result"
    }
   ],
   "source": [
    "\n",
    "%sql sqlite:///TMDB.db"
   ]
  },
  {
   "cell_type": "markdown",
   "id": "6f8bbc0b-c31c-4274-ad13-399a9182a260",
   "metadata": {},
   "source": [
    "If the above line didn't throw out any errors, then you should be good to go. Good luck with the exam! "
   ]
  },
  {
   "cell_type": "markdown",
   "id": "f5ed5285",
   "metadata": {},
   "source": [
    "## Questions on SQL\n",
    "\n",
    "Use the given cell below each question to execute your SQL queries to find the correct input from the options provided. Your solution should match one of the multiple-choice questions on Athena."
   ]
  },
  {
   "cell_type": "markdown",
   "id": "86802726",
   "metadata": {},
   "source": [
    "### Question 1\n",
    "\n",
    "Who won the Oscar for “Actor in a Leading Role” in  2015?\n",
    "\n",
    "(Hint: The winner is indicated as '1.0'.)\n",
    "\n",
    "**Options:** \n",
    "\n",
    "  - Micheal Fassbender\n",
    "  - Natalie Portman\n",
    "  - Leonardo DiCaprio\n",
    "  - Eddie Redmayne\n"
   ]
  },
  {
   "cell_type": "code",
   "execution_count": 9,
   "id": "91f3421f",
   "metadata": {},
   "outputs": [
    {
     "name": "stdout",
     "output_type": "stream",
     "text": [
      " * sqlite:///TMDB.db\n",
      "Done.\n"
     ]
    },
    {
     "data": {
      "text/html": [
       "<table>\n",
       "    <thead>\n",
       "        <tr>\n",
       "            <th>year</th>\n",
       "            <th>award</th>\n",
       "            <th>winner</th>\n",
       "            <th>name</th>\n",
       "            <th>film</th>\n",
       "        </tr>\n",
       "    </thead>\n",
       "    <tbody>\n",
       "        <tr>\n",
       "            <td>2015</td>\n",
       "            <td>Actor in a Leading Role</td>\n",
       "            <td>1.0</td>\n",
       "            <td>Leonardo DiCaprio</td>\n",
       "            <td>The Revenant</td>\n",
       "        </tr>\n",
       "    </tbody>\n",
       "</table>"
      ],
      "text/plain": [
       "[('2015', 'Actor in a Leading Role', '1.0', 'Leonardo DiCaprio', 'The Revenant')]"
      ]
     },
     "execution_count": 9,
     "metadata": {},
     "output_type": "execute_result"
    }
   ],
   "source": [
    "%%sql\n",
    "\n",
    "select * from oscars where year = 2015 and award = 'Actor in a Leading Role'\n",
    "and winner = 1.0\n",
    "limit 10"
   ]
  },
  {
   "cell_type": "markdown",
   "id": "9545206c",
   "metadata": {},
   "source": [
    "### Question 2\n",
    "\n",
    "What query will produce the ten oldest movies in the database?\n",
    "\n",
    "**Options:**\n",
    "\n",
    " - SELECT TOP(10) * FROM movies WHERE release_date ORDER BY release_date ASC\n",
    "\n",
    " - SELECT  * FROM movies WHERE release_date IS NOT NULL ORDER BY release_date ASC LIMIT 10\n",
    "\n",
    " - SELECT * FROM movies WHERE release_date IS NOT NULL ORDER BY release_date DESC LIMIT 10\n",
    "\n",
    " -  SELECT * FROM movies WHERE release_date IS NULL ORDER BY release_date DESC LIMIT 10"
   ]
  },
  {
   "cell_type": "code",
   "execution_count": 12,
   "id": "748f4263",
   "metadata": {},
   "outputs": [
    {
     "name": "stdout",
     "output_type": "stream",
     "text": [
      " * sqlite:///TMDB.db\n",
      "Done.\n"
     ]
    },
    {
     "data": {
      "text/html": [
       "<table>\n",
       "    <thead>\n",
       "        <tr>\n",
       "            <th>movie_id</th>\n",
       "            <th>title</th>\n",
       "            <th>release_date</th>\n",
       "            <th>budget</th>\n",
       "            <th>homepage</th>\n",
       "            <th>original_language</th>\n",
       "            <th>original_title</th>\n",
       "            <th>overview</th>\n",
       "            <th>popularity</th>\n",
       "            <th>revenue</th>\n",
       "            <th>runtime</th>\n",
       "            <th>release_status</th>\n",
       "            <th>tagline</th>\n",
       "            <th>vote_average</th>\n",
       "            <th>vote_count</th>\n",
       "        </tr>\n",
       "    </thead>\n",
       "    <tbody>\n",
       "        <tr>\n",
       "            <td>3059</td>\n",
       "            <td>Intolerance</td>\n",
       "            <td>1916-09-04 00:00:00.000000</td>\n",
       "            <td>385907</td>\n",
       "            <td>None</td>\n",
       "            <td>en</td>\n",
       "            <td>Intolerance</td>\n",
       "            <td>The story of a poor young woman, separated by prejudice from her husband and baby, is interwoven with tales of intolerance from throughout history.</td>\n",
       "            <td>3.232447</td>\n",
       "            <td>8394751.0</td>\n",
       "            <td>197.0</td>\n",
       "            <td>Released</td>\n",
       "            <td>The Cruel Hand of Intolerance</td>\n",
       "            <td>7.4</td>\n",
       "            <td>60</td>\n",
       "        </tr>\n",
       "        <tr>\n",
       "            <td>3060</td>\n",
       "            <td>The Big Parade</td>\n",
       "            <td>1925-11-05 00:00:00.000000</td>\n",
       "            <td>245000</td>\n",
       "            <td>None</td>\n",
       "            <td>en</td>\n",
       "            <td>The Big Parade</td>\n",
       "            <td>The story of an idle rich boy who joins the US Army&#x27;s Rainbow Division and is sent to France to fight in World War I, becomes friends with two working class men, experiences the horrors of trench warfare, and finds love with a French girl.</td>\n",
       "            <td>0.785744</td>\n",
       "            <td>22000000.0</td>\n",
       "            <td>151.0</td>\n",
       "            <td>Released</td>\n",
       "            <td>None</td>\n",
       "            <td>7.0</td>\n",
       "            <td>21</td>\n",
       "        </tr>\n",
       "        <tr>\n",
       "            <td>19</td>\n",
       "            <td>Metropolis</td>\n",
       "            <td>1927-01-10 00:00:00.000000</td>\n",
       "            <td>92620000</td>\n",
       "            <td>None</td>\n",
       "            <td>de</td>\n",
       "            <td>Metropolis</td>\n",
       "            <td>In a futuristic city sharply divided between the working class and the city planners, the son of the city&#x27;s mastermind falls in love with a working class prophet who predicts the coming of a savior to mediate their differences.</td>\n",
       "            <td>32.351527</td>\n",
       "            <td>650422.0</td>\n",
       "            <td>153.0</td>\n",
       "            <td>Released</td>\n",
       "            <td>There can be no understanding between the hands and the brain unless the heart acts as mediator.</td>\n",
       "            <td>8.0</td>\n",
       "            <td>657</td>\n",
       "        </tr>\n",
       "        <tr>\n",
       "            <td>905</td>\n",
       "            <td>Pandora&#x27;s Box</td>\n",
       "            <td>1929-01-30 00:00:00.000000</td>\n",
       "            <td>0</td>\n",
       "            <td>None</td>\n",
       "            <td>de</td>\n",
       "            <td>Die Bnchse der Pandora</td>\n",
       "            <td>The rise and inevitable fall of an amoral but naive young woman whose insouciant eroticism inspires lust and violence in those around her.</td>\n",
       "            <td>1.824184</td>\n",
       "            <td>0.0</td>\n",
       "            <td>109.0</td>\n",
       "            <td>Released</td>\n",
       "            <td>None</td>\n",
       "            <td>7.6</td>\n",
       "            <td>45</td>\n",
       "        </tr>\n",
       "        <tr>\n",
       "            <td>65203</td>\n",
       "            <td>The Broadway Melody</td>\n",
       "            <td>1929-02-08 00:00:00.000000</td>\n",
       "            <td>379000</td>\n",
       "            <td>None</td>\n",
       "            <td>en</td>\n",
       "            <td>The Broadway Melody</td>\n",
       "            <td>Harriet and Queenie Mahoney, a vaudeville act, come to Broadway, where their friend Eddie Kerns needs them for his number in one of Francis Zanfield&#x27;s shows. Eddie was in love with Harriet, but when he meets Queenie, he falls in love to her, but she is courted by Jock Warriner, a member of the New Yorker high society. It takes a while till Queenie recognizes, that she is for Jock nothing more than a toy, and it also takes a while till Harriet recognizes, that Eddie is in love with Queenie</td>\n",
       "            <td>0.968865</td>\n",
       "            <td>4358000.0</td>\n",
       "            <td>100.0</td>\n",
       "            <td>Released</td>\n",
       "            <td>The pulsating drama of Broadway&#x27;s bared heart speaks and sings with a voice to stir your soul!</td>\n",
       "            <td>5.0</td>\n",
       "            <td>19</td>\n",
       "        </tr>\n",
       "        <tr>\n",
       "            <td>22301</td>\n",
       "            <td>Hell&#x27;s Angels</td>\n",
       "            <td>1930-11-15 00:00:00.000000</td>\n",
       "            <td>3950000</td>\n",
       "            <td>None</td>\n",
       "            <td>en</td>\n",
       "            <td>Hell&#x27;s Angels</td>\n",
       "            <td>Two brothers attending Oxford enlist with the Royal Flying Corps when World War I breaks out. Roy and Monte Rutledge have very different personalities. Monte is a freewheeling womanizer, even with his brother&#x27;s girlfriend Helen. He also proves to have a yellow streak when it comes to his Night Patrol duties. Roy is made of strong moral fiber and attempts to keep his brother in line. Both volunteer for an extremely risky two man bombing mission for different reasons. Monte wants to lose his cowardly reputation and Roy seeks to protect his brother. Roy loves Helen; Helen enjoys an affair with Monte; before they leave on their mission over Germany they find her in still another man&#x27;s arms.  Their assignment to knock out a strategic German munitions facility is a booming success, but with a squadron of fighters bearing down on them afterwards, escape seems unlikely.</td>\n",
       "            <td>8.484123</td>\n",
       "            <td>8000000.0</td>\n",
       "            <td>127.0</td>\n",
       "            <td>Released</td>\n",
       "            <td>Howard Hughes&#x27; Thrilling Multi-Million Dollar Air Spectacle</td>\n",
       "            <td>6.1</td>\n",
       "            <td>19</td>\n",
       "        </tr>\n",
       "        <tr>\n",
       "            <td>22649</td>\n",
       "            <td>A Farewell to Arms</td>\n",
       "            <td>1932-12-08 00:00:00.000000</td>\n",
       "            <td>4</td>\n",
       "            <td>None</td>\n",
       "            <td>en</td>\n",
       "            <td>A Farewell to Arms</td>\n",
       "            <td>British nurse Catherine Barkley (Helen Hayes) and American Lieutenant Frederic Henry (Gary Cooper) fall in love during the First World War in Italy. Eventually separated by Frederic&#x27;s transfer, tremendous challenges and difficult decisions face each, as the war rages on. Academy Awards winner for Best Cinematography and for Best Sound, Recording. Nominated for Best Picture and for Best Art Direction.</td>\n",
       "            <td>1.199451</td>\n",
       "            <td>25.0</td>\n",
       "            <td>89.0</td>\n",
       "            <td>Released</td>\n",
       "            <td>Every woman who has loved will understand</td>\n",
       "            <td>6.2</td>\n",
       "            <td>28</td>\n",
       "        </tr>\n",
       "        <tr>\n",
       "            <td>3062</td>\n",
       "            <td>42nd Street</td>\n",
       "            <td>1933-02-02 00:00:00.000000</td>\n",
       "            <td>439000</td>\n",
       "            <td>None</td>\n",
       "            <td>en</td>\n",
       "            <td>42nd Street</td>\n",
       "            <td>A producer puts on what may be his last Broadway show, and at the last moment a chorus girl has to replace the star.</td>\n",
       "            <td>1.933366</td>\n",
       "            <td>2281000.0</td>\n",
       "            <td>89.0</td>\n",
       "            <td>Released</td>\n",
       "            <td>None</td>\n",
       "            <td>6.1</td>\n",
       "            <td>37</td>\n",
       "        </tr>\n",
       "        <tr>\n",
       "            <td>43595</td>\n",
       "            <td>She Done Him Wrong</td>\n",
       "            <td>1933-02-09 00:00:00.000000</td>\n",
       "            <td>200000</td>\n",
       "            <td>None</td>\n",
       "            <td>en</td>\n",
       "            <td>She Done Him Wrong</td>\n",
       "            <td>&quot;New York singer and nightclub owner Lady Lou has more men friends than you can imagine. Unfortunately one of them is a vicious criminal who&#x27;s escaped and is on the way to see &quot;&quot;his&quot;&quot; girl, not realising she hasn&#x27;t exactly been faithful in his absence. Help is at hand in the form of young Captain Cummings a local temperance league leader though.&quot;</td>\n",
       "            <td>0.622752</td>\n",
       "            <td>2200000.0</td>\n",
       "            <td>66.0</td>\n",
       "            <td>Released</td>\n",
       "            <td>Mae West gives a &#x27;Hot Time&#x27; to the nation!</td>\n",
       "            <td>5.1</td>\n",
       "            <td>27</td>\n",
       "        </tr>\n",
       "        <tr>\n",
       "            <td>3078</td>\n",
       "            <td>It Happened One Night</td>\n",
       "            <td>1934-02-22 00:00:00.000000</td>\n",
       "            <td>325000</td>\n",
       "            <td>None</td>\n",
       "            <td>en</td>\n",
       "            <td>It Happened One Night</td>\n",
       "            <td>Ellie Andrews has just tied the knot with society aviator King Westley when she is whisked away to her father&#x27;s yacht and out of King&#x27;s clutches. Ellie jumps ship and eventually winds up on a bus headed back to her husband. Reluctantly she must accept the help of out-of- work reporter Peter Warne. Actually, Warne doesn&#x27;t give her any choice: either she sticks with him until he gets her back to her husband, or he&#x27;ll blow the whistle on Ellie to her father. Either way, Peter gets what he wants... a really juicy newspaper story!</td>\n",
       "            <td>11.871424</td>\n",
       "            <td>4500000.0</td>\n",
       "            <td>105.0</td>\n",
       "            <td>Released</td>\n",
       "            <td>TOGETHER... for the first time</td>\n",
       "            <td>7.7</td>\n",
       "            <td>275</td>\n",
       "        </tr>\n",
       "    </tbody>\n",
       "</table>"
      ],
      "text/plain": [
       "[(3059, 'Intolerance', '1916-09-04 00:00:00.000000', 385907, None, 'en', 'Intolerance', 'The story of a poor young woman, separated by prejudice from her husband and baby, is interwoven with tales of intolerance from throughout history.', 3.232447, 8394751.0, 197.0, 'Released', 'The Cruel Hand of Intolerance', 7.4, 60),\n",
       " (3060, 'The Big Parade', '1925-11-05 00:00:00.000000', 245000, None, 'en', 'The Big Parade', \"The story of an idle rich boy who joins the US Army's Rainbow Division and is sent to France to fight in World War I, becomes friends with two working class men, experiences the horrors of trench warfare, and finds love with a French girl.\", 0.785744, 22000000.0, 151.0, 'Released', None, 7.0, 21),\n",
       " (19, 'Metropolis', '1927-01-10 00:00:00.000000', 92620000, None, 'de', 'Metropolis', \"In a futuristic city sharply divided between the working class and the city planners, the son of the city's mastermind falls in love with a working class prophet who predicts the coming of a savior to mediate their differences.\", 32.351527, 650422.0, 153.0, 'Released', 'There can be no understanding between the hands and the brain unless the heart acts as mediator.', 8.0, 657),\n",
       " (905, \"Pandora's Box\", '1929-01-30 00:00:00.000000', 0, None, 'de', 'Die Bnchse der Pandora', 'The rise and inevitable fall of an amoral but naive young woman whose insouciant eroticism inspires lust and violence in those around her.', 1.824184, 0.0, 109.0, 'Released', None, 7.6, 45),\n",
       " (65203, 'The Broadway Melody', '1929-02-08 00:00:00.000000', 379000, None, 'en', 'The Broadway Melody', \"Harriet and Queenie Mahoney, a vaudeville act, come to Broadway, where their friend Eddie Kerns needs them for his number in one of Francis Zanfield' ... (195 characters truncated) ... eenie recognizes, that she is for Jock nothing more than a toy, and it also takes a while till Harriet recognizes, that Eddie is in love with Queenie\", 0.968865, 4358000.0, 100.0, 'Released', \"The pulsating drama of Broadway's bared heart speaks and sings with a voice to stir your soul!\", 5.0, 19),\n",
       " (22301, \"Hell's Angels\", '1930-11-15 00:00:00.000000', 3950000, None, 'en', \"Hell's Angels\", \"Two brothers attending Oxford enlist with the Royal Flying Corps when World War I breaks out. Roy and Monte Rutledge have very different personalitie ... (576 characters truncated) ... t a strategic German munitions facility is a booming success, but with a squadron of fighters bearing down on them afterwards, escape seems unlikely.\", 8.484123, 8000000.0, 127.0, 'Released', \"Howard Hughes' Thrilling Multi-Million Dollar Air Spectacle\", 6.1, 19),\n",
       " (22649, 'A Farewell to Arms', '1932-12-08 00:00:00.000000', 4, None, 'en', 'A Farewell to Arms', \"British nurse Catherine Barkley (Helen Hayes) and American Lieutenant Frederic Henry (Gary Cooper) fall in love during the First World War in Italy.  ... (105 characters truncated) ... the war rages on. Academy Awards winner for Best Cinematography and for Best Sound, Recording. Nominated for Best Picture and for Best Art Direction.\", 1.199451, 25.0, 89.0, 'Released', 'Every woman who has loved will understand', 6.2, 28),\n",
       " (3062, '42nd Street', '1933-02-02 00:00:00.000000', 439000, None, 'en', '42nd Street', 'A producer puts on what may be his last Broadway show, and at the last moment a chorus girl has to replace the star.', 1.933366, 2281000.0, 89.0, 'Released', None, 6.1, 37),\n",
       " (43595, 'She Done Him Wrong', '1933-02-09 00:00:00.000000', 200000, None, 'en', 'She Done Him Wrong', '\"New York singer and nightclub owner Lady Lou has more men friends than you can imagine. Unfortunately one of them is a vicious criminal who\\'s escap ... (52 characters truncated) ... ing she hasn\\'t exactly been faithful in his absence. Help is at hand in the form of young Captain Cummings a local temperance league leader though.\"', 0.622752, 2200000.0, 66.0, 'Released', \"Mae West gives a 'Hot Time' to the nation!\", 5.1, 27),\n",
       " (3078, 'It Happened One Night', '1934-02-22 00:00:00.000000', 325000, None, 'en', 'It Happened One Night', \"Ellie Andrews has just tied the knot with society aviator King Westley when she is whisked away to her father's yacht and out of King's clutches. Ell ... (233 characters truncated) ... ts her back to her husband, or he'll blow the whistle on Ellie to her father. Either way, Peter gets what he wants... a really juicy newspaper story!\", 11.871424, 4500000.0, 105.0, 'Released', 'TOGETHER... for the first time', 7.7, 275)]"
      ]
     },
     "execution_count": 12,
     "metadata": {},
     "output_type": "execute_result"
    }
   ],
   "source": [
    "%%sql\n",
    "\n",
    " SELECT  * FROM movies WHERE release_date IS NOT NULL ORDER BY release_date ASC LIMIT 10"
   ]
  },
  {
   "cell_type": "markdown",
   "id": "79dc3d5f",
   "metadata": {},
   "source": [
    "### Question 3\n",
    "\n",
    "How many unique awards are there in the Oscars table?\n",
    "\n",
    "**Options:**\n",
    " - 141\n",
    " - 53 \n",
    " - 80\n",
    " - 114"
   ]
  },
  {
   "cell_type": "code",
   "execution_count": 14,
   "id": "f4621a53",
   "metadata": {},
   "outputs": [
    {
     "name": "stdout",
     "output_type": "stream",
     "text": [
      " * sqlite:///TMDB.db\n",
      "Done.\n"
     ]
    },
    {
     "data": {
      "text/html": [
       "<table>\n",
       "    <thead>\n",
       "        <tr>\n",
       "            <th>count(distinct award)</th>\n",
       "        </tr>\n",
       "    </thead>\n",
       "    <tbody>\n",
       "        <tr>\n",
       "            <td>114</td>\n",
       "        </tr>\n",
       "    </tbody>\n",
       "</table>"
      ],
      "text/plain": [
       "[(114,)]"
      ]
     },
     "execution_count": 14,
     "metadata": {},
     "output_type": "execute_result"
    }
   ],
   "source": [
    "%%sql\n",
    "select count(distinct award) from oscars\n",
    "\n"
   ]
  },
  {
   "cell_type": "markdown",
   "id": "a8b06373",
   "metadata": {},
   "source": [
    "### Question 4\n",
    "\n",
    "How many movies are there that contain the word “Spider” within their title?\n",
    "\n",
    "**Options:**\n",
    " - 0\n",
    " - 5\n",
    " - 1\n",
    " - 9"
   ]
  },
  {
   "cell_type": "code",
   "execution_count": 16,
   "id": "1e003247",
   "metadata": {},
   "outputs": [
    {
     "name": "stdout",
     "output_type": "stream",
     "text": [
      " * sqlite:///TMDB.db\n",
      "Done.\n"
     ]
    },
    {
     "data": {
      "text/html": [
       "<table>\n",
       "    <thead>\n",
       "        <tr>\n",
       "            <th>count(*)</th>\n",
       "        </tr>\n",
       "    </thead>\n",
       "    <tbody>\n",
       "        <tr>\n",
       "            <td>9</td>\n",
       "        </tr>\n",
       "    </tbody>\n",
       "</table>"
      ],
      "text/plain": [
       "[(9,)]"
      ]
     },
     "execution_count": 16,
     "metadata": {},
     "output_type": "execute_result"
    }
   ],
   "source": [
    "%%sql\n",
    "\n",
    "select count(*) from movies where title like '%Spider%'"
   ]
  },
  {
   "cell_type": "markdown",
   "id": "2f77c5bd",
   "metadata": {},
   "source": [
    "### Question 5\n",
    "\n",
    "How many movies are there that are both in the \"Thriller\" genre and contain the word “love” anywhere in the keywords?\n",
    "\n",
    "\n",
    "**Options:**\n",
    " - 48\n",
    " - 38\n",
    " - 14\n",
    " - 1"
   ]
  },
  {
   "cell_type": "code",
   "execution_count": 181,
   "id": "abc5146c",
   "metadata": {},
   "outputs": [
    {
     "name": "stdout",
     "output_type": "stream",
     "text": [
      " * sqlite:///TMDB.db\n",
      "Done.\n"
     ]
    },
    {
     "data": {
      "text/html": [
       "<table>\n",
       "    <thead>\n",
       "        <tr>\n",
       "            <th>count(distinct a.movie_id)</th>\n",
       "        </tr>\n",
       "    </thead>\n",
       "    <tbody>\n",
       "        <tr>\n",
       "            <td>48</td>\n",
       "        </tr>\n",
       "    </tbody>\n",
       "</table>"
      ],
      "text/plain": [
       "[(48,)]"
      ]
     },
     "execution_count": 181,
     "metadata": {},
     "output_type": "execute_result"
    }
   ],
   "source": [
    "%%sql\n",
    "\n",
    "select count(distinct a.movie_id) from movies a\n",
    "join genremap c on a.movie_id = c.movie_id\n",
    "join genres b on b.genre_id = c.genre_id\n",
    "join keywordmap d on a.movie_id = d.movie_id\n",
    "join keywords e on e.keyword_id = d.keyword_id\n",
    "where b.genre_name = 'Thriller'\n",
    "and e.keyword_name like '%love%'\n"
   ]
  },
  {
   "cell_type": "markdown",
   "id": "8c6e82eb",
   "metadata": {},
   "source": [
    "### Question 6\n",
    "\n",
    "How many movies are there that were released between 1 August 2006 ('2006-08-01') and 1 October 2009 ('2009-10-01') that have a popularity score of more than 40 and a budget of less than 50 000 000?\n",
    "\n",
    " \n",
    "**Options:**\n",
    "\n",
    " - 29\n",
    " - 23\n",
    " - 28\n",
    " - 35"
   ]
  },
  {
   "cell_type": "code",
   "execution_count": 44,
   "id": "e8de6542",
   "metadata": {},
   "outputs": [
    {
     "name": "stdout",
     "output_type": "stream",
     "text": [
      " * sqlite:///TMDB.db\n",
      "Done.\n"
     ]
    },
    {
     "data": {
      "text/html": [
       "<table>\n",
       "    <thead>\n",
       "        <tr>\n",
       "            <th>count(*)</th>\n",
       "        </tr>\n",
       "    </thead>\n",
       "    <tbody>\n",
       "        <tr>\n",
       "            <td>29</td>\n",
       "        </tr>\n",
       "    </tbody>\n",
       "</table>"
      ],
      "text/plain": [
       "[(29,)]"
      ]
     },
     "execution_count": 44,
     "metadata": {},
     "output_type": "execute_result"
    }
   ],
   "source": [
    "%%sql\n",
    "\n",
    "select count(*) from movies where release_date between '2006-08-01' and '2009-10-01' and popularity > 40 and budget < 50000000"
   ]
  },
  {
   "cell_type": "markdown",
   "id": "cf0d12b1",
   "metadata": {},
   "source": [
    "### Question 7\n",
    "\n",
    "How many unique characters has \"Vin Diesel\" played so far in the database?\n",
    "\n",
    "**Options:**\n",
    " - 24\n",
    " - 19\n",
    " - 18\n",
    " - 16"
   ]
  },
  {
   "cell_type": "code",
   "execution_count": 54,
   "id": "cc1eecb5",
   "metadata": {},
   "outputs": [
    {
     "name": "stdout",
     "output_type": "stream",
     "text": [
      " * sqlite:///TMDB.db\n",
      "Done.\n"
     ]
    },
    {
     "data": {
      "text/html": [
       "<table>\n",
       "    <thead>\n",
       "        <tr>\n",
       "            <th>count(distinct a.characters)</th>\n",
       "        </tr>\n",
       "    </thead>\n",
       "    <tbody>\n",
       "        <tr>\n",
       "            <td>16</td>\n",
       "        </tr>\n",
       "    </tbody>\n",
       "</table>"
      ],
      "text/plain": [
       "[(16,)]"
      ]
     },
     "execution_count": 54,
     "metadata": {},
     "output_type": "execute_result"
    }
   ],
   "source": [
    "%%sql\n",
    "select count(distinct a.characters) from casts a\n",
    "join actors b on a.actor_id = b.actor_id\n",
    "where b.actor_name like '%Diesel%'\n"
   ]
  },
  {
   "cell_type": "markdown",
   "id": "297fc8b8",
   "metadata": {},
   "source": [
    "### Question 8\n",
    "\n",
    "What are the genres of the movie “The Royal Tenenbaums”?\n",
    "\n",
    "\n",
    "**Options:**\n",
    " - Action, Romance\n",
    " - Drama, Comedy\n",
    " - Crime, Thriller\n",
    " - Drama, Romance"
   ]
  },
  {
   "cell_type": "code",
   "execution_count": 6,
   "id": "e2ad1e00",
   "metadata": {},
   "outputs": [
    {
     "name": "stdout",
     "output_type": "stream",
     "text": [
      " * sqlite:///TMDB.db\n",
      "Done.\n"
     ]
    },
    {
     "data": {
      "text/html": [
       "<table>\n",
       "    <thead>\n",
       "        <tr>\n",
       "            <th>movie_id</th>\n",
       "            <th>genre_name</th>\n",
       "            <th>title</th>\n",
       "            <th>keyword_name</th>\n",
       "        </tr>\n",
       "    </thead>\n",
       "    <tbody>\n",
       "        <tr>\n",
       "            <td>9428</td>\n",
       "            <td>Drama</td>\n",
       "            <td>The Royal Tenenbaums</td>\n",
       "            <td>forgiveness</td>\n",
       "        </tr>\n",
       "        <tr>\n",
       "            <td>9428</td>\n",
       "            <td>Drama</td>\n",
       "            <td>The Royal Tenenbaums</td>\n",
       "            <td>child prodigy</td>\n",
       "        </tr>\n",
       "        <tr>\n",
       "            <td>9428</td>\n",
       "            <td>Drama</td>\n",
       "            <td>The Royal Tenenbaums</td>\n",
       "            <td>terminal illness</td>\n",
       "        </tr>\n",
       "        <tr>\n",
       "            <td>9428</td>\n",
       "            <td>Drama</td>\n",
       "            <td>The Royal Tenenbaums</td>\n",
       "            <td>dysfunctional family</td>\n",
       "        </tr>\n",
       "        <tr>\n",
       "            <td>9428</td>\n",
       "            <td>Drama</td>\n",
       "            <td>The Royal Tenenbaums</td>\n",
       "            <td>cigarette smoking</td>\n",
       "        </tr>\n",
       "        <tr>\n",
       "            <td>9428</td>\n",
       "            <td>Drama</td>\n",
       "            <td>The Royal Tenenbaums</td>\n",
       "            <td>family conflict</td>\n",
       "        </tr>\n",
       "        <tr>\n",
       "            <td>9428</td>\n",
       "            <td>Comedy</td>\n",
       "            <td>The Royal Tenenbaums</td>\n",
       "            <td>forgiveness</td>\n",
       "        </tr>\n",
       "        <tr>\n",
       "            <td>9428</td>\n",
       "            <td>Comedy</td>\n",
       "            <td>The Royal Tenenbaums</td>\n",
       "            <td>child prodigy</td>\n",
       "        </tr>\n",
       "        <tr>\n",
       "            <td>9428</td>\n",
       "            <td>Comedy</td>\n",
       "            <td>The Royal Tenenbaums</td>\n",
       "            <td>terminal illness</td>\n",
       "        </tr>\n",
       "        <tr>\n",
       "            <td>9428</td>\n",
       "            <td>Comedy</td>\n",
       "            <td>The Royal Tenenbaums</td>\n",
       "            <td>dysfunctional family</td>\n",
       "        </tr>\n",
       "        <tr>\n",
       "            <td>9428</td>\n",
       "            <td>Comedy</td>\n",
       "            <td>The Royal Tenenbaums</td>\n",
       "            <td>cigarette smoking</td>\n",
       "        </tr>\n",
       "        <tr>\n",
       "            <td>9428</td>\n",
       "            <td>Comedy</td>\n",
       "            <td>The Royal Tenenbaums</td>\n",
       "            <td>family conflict</td>\n",
       "        </tr>\n",
       "    </tbody>\n",
       "</table>"
      ],
      "text/plain": [
       "[(9428, 'Drama', 'The Royal Tenenbaums', 'forgiveness'),\n",
       " (9428, 'Drama', 'The Royal Tenenbaums', 'child prodigy'),\n",
       " (9428, 'Drama', 'The Royal Tenenbaums', 'terminal illness'),\n",
       " (9428, 'Drama', 'The Royal Tenenbaums', 'dysfunctional family'),\n",
       " (9428, 'Drama', 'The Royal Tenenbaums', 'cigarette smoking'),\n",
       " (9428, 'Drama', 'The Royal Tenenbaums', 'family conflict'),\n",
       " (9428, 'Comedy', 'The Royal Tenenbaums', 'forgiveness'),\n",
       " (9428, 'Comedy', 'The Royal Tenenbaums', 'child prodigy'),\n",
       " (9428, 'Comedy', 'The Royal Tenenbaums', 'terminal illness'),\n",
       " (9428, 'Comedy', 'The Royal Tenenbaums', 'dysfunctional family'),\n",
       " (9428, 'Comedy', 'The Royal Tenenbaums', 'cigarette smoking'),\n",
       " (9428, 'Comedy', 'The Royal Tenenbaums', 'family conflict')]"
      ]
     },
     "execution_count": 6,
     "metadata": {},
     "output_type": "execute_result"
    }
   ],
   "source": [
    "%%sql\n",
    "\n",
    "select a.movie_id, b.genre_name,a.title,e.keyword_name from movies a\n",
    "join genremap c on a.movie_id = c.movie_id\n",
    "join genres b on b.genre_id = c.genre_id\n",
    "join keywordmap d on a.movie_id = d.movie_id\n",
    "join keywords e on e.keyword_id = d.keyword_id\n",
    "where a.title like '%Royal Tenen%'\n"
   ]
  },
  {
   "cell_type": "markdown",
   "id": "d3ed71a0",
   "metadata": {},
   "source": [
    "### Question 9\n",
    "\n",
    "What are the three production companies that have the highest movie popularity score on average, as recorded within the database?\n",
    "\n",
    "\n",
    "**Options:**\n",
    "\n",
    " - MCL Films S.A., Turner Pictures, and George Stevens Productions\n",
    " - The Donners' Company, Bulletproof Cupid, and Kinberg Genre\n",
    " - Bulletproof Cupid, The Donners' Company, and MCL Films S.A\n",
    " - B.Sting Entertainment, Illumination Pictures, and Aztec Musique"
   ]
  },
  {
   "cell_type": "code",
   "execution_count": 63,
   "id": "92d65440",
   "metadata": {},
   "outputs": [
    {
     "name": "stdout",
     "output_type": "stream",
     "text": [
      " * sqlite:///TMDB.db\n",
      "Done.\n"
     ]
    },
    {
     "data": {
      "text/html": [
       "<table>\n",
       "    <thead>\n",
       "        <tr>\n",
       "            <th>production_company_name</th>\n",
       "            <th>avg(c.popularity)</th>\n",
       "        </tr>\n",
       "    </thead>\n",
       "    <tbody>\n",
       "        <tr>\n",
       "            <td>The Donners&#x27; Company</td>\n",
       "            <td>514.569956</td>\n",
       "        </tr>\n",
       "        <tr>\n",
       "            <td>Bulletproof Cupid</td>\n",
       "            <td>481.098624</td>\n",
       "        </tr>\n",
       "        <tr>\n",
       "            <td>Kinberg Genre</td>\n",
       "            <td>326.92099900000005</td>\n",
       "        </tr>\n",
       "    </tbody>\n",
       "</table>"
      ],
      "text/plain": [
       "[(\"The Donners' Company\", 514.569956),\n",
       " ('Bulletproof Cupid', 481.098624),\n",
       " ('Kinberg Genre', 326.92099900000005)]"
      ]
     },
     "execution_count": 63,
     "metadata": {},
     "output_type": "execute_result"
    }
   ],
   "source": [
    "%%sql\n",
    "\n",
    "select a.production_company_name,avg(c.popularity) from productioncompanies a\n",
    "join productioncompanymap b on a.production_company_id = b.production_company_id\n",
    "join movies c on c.movie_id = b.movie_id\n",
    "group by a.production_company_name\n",
    "order by avg(c.popularity) desc\n",
    "limit 3"
   ]
  },
  {
   "cell_type": "markdown",
   "id": "d892dcac",
   "metadata": {},
   "source": [
    "### Question 10\n",
    "\n",
    "How many female actors (i.e. gender = 1) have a name that starts with the letter \"N\"?\n",
    "\n",
    "\n",
    "**Options:**\n",
    "\n",
    " - 0\n",
    " - 355\n",
    " - 7335\n",
    " - 1949"
   ]
  },
  {
   "cell_type": "code",
   "execution_count": 65,
   "id": "4bca2942",
   "metadata": {},
   "outputs": [
    {
     "name": "stdout",
     "output_type": "stream",
     "text": [
      " * sqlite:///TMDB.db\n",
      "Done.\n"
     ]
    },
    {
     "data": {
      "text/html": [
       "<table>\n",
       "    <thead>\n",
       "        <tr>\n",
       "            <th>count(*)</th>\n",
       "        </tr>\n",
       "    </thead>\n",
       "    <tbody>\n",
       "        <tr>\n",
       "            <td>355</td>\n",
       "        </tr>\n",
       "    </tbody>\n",
       "</table>"
      ],
      "text/plain": [
       "[(355,)]"
      ]
     },
     "execution_count": 65,
     "metadata": {},
     "output_type": "execute_result"
    }
   ],
   "source": [
    "%%sql\n",
    "\n",
    "select count(*) from actors where gender = 1 and actor_name like 'N_%'"
   ]
  },
  {
   "cell_type": "markdown",
   "id": "7ea65b50",
   "metadata": {},
   "source": [
    "### Question 11\n",
    "\n",
    "Which genre has, on average, the lowest movie popularity score? \n",
    "\n",
    "\n",
    "**Options:**\n",
    "\n",
    " - Science Fiction\n",
    " - Animation\n",
    " - Documentary\n",
    " - Foreign"
   ]
  },
  {
   "cell_type": "code",
   "execution_count": 7,
   "id": "e3a55c56",
   "metadata": {},
   "outputs": [
    {
     "name": "stdout",
     "output_type": "stream",
     "text": [
      " * sqlite:///TMDB.db\n",
      "Done.\n"
     ]
    },
    {
     "data": {
      "text/html": [
       "<table>\n",
       "    <thead>\n",
       "        <tr>\n",
       "            <th>genre_name</th>\n",
       "            <th>avg(a.popularity)</th>\n",
       "        </tr>\n",
       "    </thead>\n",
       "    <tbody>\n",
       "        <tr>\n",
       "            <td>Foreign</td>\n",
       "            <td>0.686786794117647</td>\n",
       "        </tr>\n",
       "    </tbody>\n",
       "</table>"
      ],
      "text/plain": [
       "[('Foreign', 0.686786794117647)]"
      ]
     },
     "execution_count": 7,
     "metadata": {},
     "output_type": "execute_result"
    }
   ],
   "source": [
    "%%sql\n",
    "\n",
    "select b.genre_name, avg(a.popularity) from movies a\n",
    "join genremap c on a.movie_id = c.movie_id\n",
    "join genres b on b.genre_id = c.genre_id\n",
    "group by b.genre_name\n",
    "order by avg(a.popularity) asc\n",
    "limit 1"
   ]
  },
  {
   "cell_type": "markdown",
   "id": "3769de93",
   "metadata": {},
   "source": [
    "### Question 12\n",
    "\n",
    "Which award category has the highest number of actor nominations (actors can be male or female)? (Hint: `Oscars.name` contains both actors' names and film names.)\n",
    "\n",
    "**Options:**\n",
    "\n",
    "- Special Achievement Award\n",
    "- Actor in a Supporting Role\n",
    "- Actress in a Supporting Role\n",
    "- Best Picture\n",
    "\n"
   ]
  },
  {
   "cell_type": "code",
   "execution_count": 165,
   "id": "e3943f72",
   "metadata": {},
   "outputs": [
    {
     "name": "stdout",
     "output_type": "stream",
     "text": [
      " * sqlite:///TMDB.db\n",
      "Done.\n"
     ]
    },
    {
     "data": {
      "text/html": [
       "<table>\n",
       "    <thead>\n",
       "        <tr>\n",
       "            <th>award</th>\n",
       "            <th>count(name)</th>\n",
       "        </tr>\n",
       "    </thead>\n",
       "    <tbody>\n",
       "        <tr>\n",
       "            <td>Actor in a Supporting Role</td>\n",
       "            <td>356</td>\n",
       "        </tr>\n",
       "        <tr>\n",
       "            <td>Actress in a Supporting Role</td>\n",
       "            <td>331</td>\n",
       "        </tr>\n",
       "        <tr>\n",
       "            <td>Actress in a Leading Role</td>\n",
       "            <td>198</td>\n",
       "        </tr>\n",
       "        <tr>\n",
       "            <td>Actor in a Leading Role</td>\n",
       "            <td>197</td>\n",
       "        </tr>\n",
       "        <tr>\n",
       "            <td>Actor</td>\n",
       "            <td>184</td>\n",
       "        </tr>\n",
       "        <tr>\n",
       "            <td>Actress</td>\n",
       "            <td>145</td>\n",
       "        </tr>\n",
       "        <tr>\n",
       "            <td>Honorary Award</td>\n",
       "            <td>35</td>\n",
       "        </tr>\n",
       "        <tr>\n",
       "            <td>Jean Hersholt Humanitarian Award</td>\n",
       "            <td>15</td>\n",
       "        </tr>\n",
       "        <tr>\n",
       "            <td>Special Award</td>\n",
       "            <td>14</td>\n",
       "        </tr>\n",
       "        <tr>\n",
       "            <td>Irving G. Thalberg Memorial Award</td>\n",
       "            <td>12</td>\n",
       "        </tr>\n",
       "        <tr>\n",
       "            <td>Directing</td>\n",
       "            <td>4</td>\n",
       "        </tr>\n",
       "        <tr>\n",
       "            <td>Special Achievement Award</td>\n",
       "            <td>2</td>\n",
       "        </tr>\n",
       "        <tr>\n",
       "            <td>Directing (Dramatic Picture)</td>\n",
       "            <td>2</td>\n",
       "        </tr>\n",
       "        <tr>\n",
       "            <td>John A. Bonner Medal of Commendation</td>\n",
       "            <td>1</td>\n",
       "        </tr>\n",
       "        <tr>\n",
       "            <td>Gordon E. Sawyer Award</td>\n",
       "            <td>1</td>\n",
       "        </tr>\n",
       "        <tr>\n",
       "            <td>Cinematography</td>\n",
       "            <td>1</td>\n",
       "        </tr>\n",
       "    </tbody>\n",
       "</table>"
      ],
      "text/plain": [
       "[('Actor in a Supporting Role', 356),\n",
       " ('Actress in a Supporting Role', 331),\n",
       " ('Actress in a Leading Role', 198),\n",
       " ('Actor in a Leading Role', 197),\n",
       " ('Actor', 184),\n",
       " ('Actress', 145),\n",
       " ('Honorary Award', 35),\n",
       " ('Jean Hersholt Humanitarian Award', 15),\n",
       " ('Special Award', 14),\n",
       " ('Irving G. Thalberg Memorial Award', 12),\n",
       " ('Directing', 4),\n",
       " ('Special Achievement Award', 2),\n",
       " ('Directing (Dramatic Picture)', 2),\n",
       " ('John A. Bonner Medal of Commendation', 1),\n",
       " ('Gordon E. Sawyer Award', 1),\n",
       " ('Cinematography', 1)]"
      ]
     },
     "execution_count": 165,
     "metadata": {},
     "output_type": "execute_result"
    }
   ],
   "source": [
    "%%sql\n",
    "\n",
    "with awards as (\n",
    "select b.name, b.award from actors a\n",
    "join oscars b on a.actor_name = b.name\n",
    ")\n",
    "\n",
    "select award, count(name) from awards\n",
    "group by award\n",
    "order by count(name) desc\n",
    "\n"
   ]
  },
  {
   "cell_type": "markdown",
   "id": "c80a7c0c",
   "metadata": {},
   "source": [
    "### Question 13\n",
    "\n",
    "For all of the entries in the Oscars table before 1934, the year is stored differently than in all the subsequent years. For example, the year would be saved as “1932/1933” instead of just “1933” (the second indicated year).  Which of the following options would be the appropriate code to update this column to have the format of the year be consistent throughout the entire table (second indicated year only shown)?\n",
    "\n",
    "\n",
    "**Options:**\n",
    "\n",
    "- `UPDATE Oscars SET year = RIGHT(year, -4)`\n",
    "- `UPDATE Oscars SET year = SELECT substr(year, -4)`\n",
    "- `UPDATE Oscars SET year = substr(year, -4)`\n",
    "- `UPDATE Oscars year =  substr(year, 4)`"
   ]
  },
  {
   "cell_type": "code",
   "execution_count": 72,
   "id": "6220bb09",
   "metadata": {},
   "outputs": [
    {
     "name": "stdout",
     "output_type": "stream",
     "text": [
      " * sqlite:///TMDB.db\n",
      "Done.\n"
     ]
    },
    {
     "data": {
      "text/html": [
       "<table>\n",
       "    <thead>\n",
       "        <tr>\n",
       "            <th>year</th>\n",
       "        </tr>\n",
       "    </thead>\n",
       "    <tbody>\n",
       "        <tr>\n",
       "            <td>1928</td>\n",
       "        </tr>\n",
       "        <tr>\n",
       "            <td>1929</td>\n",
       "        </tr>\n",
       "        <tr>\n",
       "            <td>1930</td>\n",
       "        </tr>\n",
       "        <tr>\n",
       "            <td>1931</td>\n",
       "        </tr>\n",
       "        <tr>\n",
       "            <td>1932</td>\n",
       "        </tr>\n",
       "        <tr>\n",
       "            <td>1933</td>\n",
       "        </tr>\n",
       "        <tr>\n",
       "            <td>1934</td>\n",
       "        </tr>\n",
       "        <tr>\n",
       "            <td>1935</td>\n",
       "        </tr>\n",
       "        <tr>\n",
       "            <td>1936</td>\n",
       "        </tr>\n",
       "        <tr>\n",
       "            <td>1937</td>\n",
       "        </tr>\n",
       "    </tbody>\n",
       "</table>"
      ],
      "text/plain": [
       "[('1928',),\n",
       " ('1929',),\n",
       " ('1930',),\n",
       " ('1931',),\n",
       " ('1932',),\n",
       " ('1933',),\n",
       " ('1934',),\n",
       " ('1935',),\n",
       " ('1936',),\n",
       " ('1937',)]"
      ]
     },
     "execution_count": 72,
     "metadata": {},
     "output_type": "execute_result"
    }
   ],
   "source": [
    "%%sql\n",
    "\n",
    "UPDATE Oscars SET year = substr(year, -4)"
   ]
  },
  {
   "cell_type": "markdown",
   "id": "a7d73885",
   "metadata": {},
   "source": [
    "### Question 14\n",
    "\n",
    "DStv will be having a special week dedicated to the actor Alan Rickman. Which of the following queries would create a new _view_ that shows the titles, release dates, taglines, and overviews of all movies that Alan Rickman has played in?\n",
    "\n",
    "\n",
    "\n",
    "**Options:**\n",
    "\n",
    "- SELECT title, release_date, tagline, overview \n",
    "FROM Movies LEFT JOIN Casts ON Casts.movie_id = Movies.movie_id Left JOIN Actors ON Casts.actor_id = Actors.actor_id \n",
    "WHERE Actors.actor_name = 'Alan Rickman'\n",
    "AS VIEW Alan_Rickman_Movies\n",
    "\n",
    "- CREATE VIEW Alan_Rickman_Movies AS  \n",
    "SELECT title, release_date, tagline, overview FROM Movies  \n",
    "LEFT JOIN Casts ON Casts.movie_id = Movies.movie_id Left JOIN Actors\n",
    "ON Casts.actor_id = Actors.actor_id\n",
    "WHERE Actors.actor_name = 'Alan Rickman' \n",
    "\n",
    "\n",
    "- CREATE NEW VIEW  Name  = Alan_Rickman_Movies AS SELECT title, release_date, tagline, overview FROM Movies LEFT JOIN Casts ON Casts.movie_id = Movies.movie_id Left JOIN Actors ON Casts.actor_id = Actors.actor_id WHERE Actors.actor_name = 'Alan Rickman'\n",
    "\n",
    "- VIEW Alan_Rickman_Movies AS SELECT title, release_date, tagline, overview FROM Movies LEFT JOIN Casts ON Casts.movie_id = Movies.movie_id Left JOIN Actors ON Casts.actor_id = Actors.actor_id WHERE Actors.actor_name = 'Alan Rickman'"
   ]
  },
  {
   "cell_type": "code",
   "execution_count": 73,
   "id": "f9b82bc6",
   "metadata": {},
   "outputs": [
    {
     "name": "stdout",
     "output_type": "stream",
     "text": [
      " * sqlite:///TMDB.db\n",
      "Done.\n"
     ]
    },
    {
     "data": {
      "text/html": [
       "<table>\n",
       "    <thead>\n",
       "        <tr>\n",
       "            <th>title</th>\n",
       "            <th>release_date</th>\n",
       "            <th>tagline</th>\n",
       "            <th>overview</th>\n",
       "        </tr>\n",
       "    </thead>\n",
       "    <tbody>\n",
       "        <tr>\n",
       "            <td>Love Actually</td>\n",
       "            <td>2003-09-07 00:00:00.000000</td>\n",
       "            <td>The ultimate romantic comedy.</td>\n",
       "            <td>Follows seemingly unrelated people as their lives begin to intertwine while they fall in û and out û of love. Affections languish and develop as Christmas draws near.</td>\n",
       "        </tr>\n",
       "        <tr>\n",
       "            <td>Die Hard</td>\n",
       "            <td>1988-07-15 00:00:00.000000</td>\n",
       "            <td>40 Stories. Twelve Terrorists. One Cop.</td>\n",
       "            <td>NYPD cop, John McClane&#x27;s plan to reconcile with his estranged wife is thrown for a serious loop when minutes after he arrives at her office, the entire building is overtaken by a group of terrorists. With little help from the LAPD, wisecracking McClane sets out to single-handedly rescue the hostages and bring the bad guys down.</td>\n",
       "        </tr>\n",
       "        <tr>\n",
       "            <td>Harry Potter and the Philosopher&#x27;s Stone</td>\n",
       "            <td>2001-11-16 00:00:00.000000</td>\n",
       "            <td>Let the Magic Begin.</td>\n",
       "            <td>Harry Potter has lived under the stairs at his aunt and uncle&#x27;s house his whole life. But on his 11th birthday, he learns he&#x27;s a powerful wizard -- with a place waiting for him at the Hogwarts School of Witchcraft and Wizardry. As he learns to harness his newfound powers with the help of the school&#x27;s kindly headmaster, Harry uncovers the truth about his parents&#x27; deaths -- and about the villain who&#x27;s to blame.</td>\n",
       "        </tr>\n",
       "        <tr>\n",
       "            <td>Harry Potter and the Chamber of Secrets</td>\n",
       "            <td>2002-11-13 00:00:00.000000</td>\n",
       "            <td>Hogwarts is back in session.</td>\n",
       "            <td>Ignoring threats to his life, Harry returns to Hogwarts to investigate û aided by Ron and Hermione û a mysterious series of attacks.</td>\n",
       "        </tr>\n",
       "        <tr>\n",
       "            <td>Harry Potter and the Prisoner of Azkaban</td>\n",
       "            <td>2004-05-31 00:00:00.000000</td>\n",
       "            <td>Something wicked this way comes.</td>\n",
       "            <td>Harry, Ron and Hermione return to Hogwarts for another magic-filled year. Harry comes face to face with danger yet again, this time in the form of escaped convict, Sirius Black û and turns to sympathetic Professor Lupin for help.</td>\n",
       "        </tr>\n",
       "        <tr>\n",
       "            <td>Harry Potter and the Goblet of Fire</td>\n",
       "            <td>2005-11-05 00:00:00.000000</td>\n",
       "            <td>Dark And Difficult Times Lie Ahead.</td>\n",
       "            <td>Harry starts his fourth year at Hogwarts, competes in the treacherous Triwizard Tournament and faces the evil Lord Voldemort. Ron and Hermione help Harry manage the pressure û but Voldemort lurks, awaiting his chance to destroy Harry and all that he stands for.</td>\n",
       "        </tr>\n",
       "        <tr>\n",
       "            <td>Harry Potter and the Order of the Phoenix</td>\n",
       "            <td>2007-06-28 00:00:00.000000</td>\n",
       "            <td>Evil Must Be Confronted.</td>\n",
       "            <td>Returning for his fifth year of study at Hogwarts, Harry is stunned to find that his warnings about the return of Lord Voldemort have been ignored. Left with no choice, Harry takes matters into his own hands, training a small group of students û dubbed &#x27;Dumbledore&#x27;s Army&#x27; û to defend themselves against the dark arts.</td>\n",
       "        </tr>\n",
       "        <tr>\n",
       "            <td>Harry Potter and the Half-Blood Prince</td>\n",
       "            <td>2009-07-07 00:00:00.000000</td>\n",
       "            <td>Dark Secrets Revealed</td>\n",
       "            <td>As Harry begins his sixth year at Hogwarts, he discovers an old book marked as &#x27;Property of the Half-Blood Prince&#x27;, and begins to learn more about Lord Voldemort&#x27;s dark past.</td>\n",
       "        </tr>\n",
       "        <tr>\n",
       "            <td>Galaxy Quest</td>\n",
       "            <td>1999-12-23 00:00:00.000000</td>\n",
       "            <td>A comedy of Galactic Proportions.</td>\n",
       "            <td>The stars of a 1970s sci-fi show - now scraping a living through re-runs and sci-fi conventions - are beamed aboard an alien spacecraft. Believing the cast&#x27;s heroic on-screen dramas are historical documents of real-life adventures, the band of aliens turn to the ailing celebrities for help in their quest to overcome the oppressive regime in their solar system.</td>\n",
       "        </tr>\n",
       "        <tr>\n",
       "            <td>Perfume: The Story of a Murderer</td>\n",
       "            <td>2006-09-13 00:00:00.000000</td>\n",
       "            <td>Based on the best-selling novel</td>\n",
       "            <td>Jean-Baptiste Grenouille, born in the stench of 18th century Paris, develops a superior olfactory sense, which he uses to create the world&#x27;s finest perfumes. However, his work takes a dark turn as he tries to preserve scents in the search for the ultimate perfume.</td>\n",
       "        </tr>\n",
       "        <tr>\n",
       "            <td>Michael Collins</td>\n",
       "            <td>1996-10-25 00:00:00.000000</td>\n",
       "            <td>Ireland, 1916. His Dreams Inspired Hope. His Words Ignited Passion. His Courage Forged A Nation&#x27;s Destiny.</td>\n",
       "            <td>Michael Collins plays a crucial role in the establishment of the Irish Free State in the 1920s, but becomes vilified by those hoping to create a completely independent Irish republic.</td>\n",
       "        </tr>\n",
       "        <tr>\n",
       "            <td>Dogma</td>\n",
       "            <td>1999-11-12 00:00:00.000000</td>\n",
       "            <td>It can be Hell getting into Heaven</td>\n",
       "            <td>The latest battle in the eternal war between Good and Evil has come to New Jersey in the late, late 20th Century. Angels, demons, apostles and prophets (of a sort) walk among the cynics and innocents of America and duke it out for the fate of humankind.</td>\n",
       "        </tr>\n",
       "        <tr>\n",
       "            <td>Sense and Sensibility</td>\n",
       "            <td>1995-12-13 00:00:00.000000</td>\n",
       "            <td>Lose your heart and come to your senses.</td>\n",
       "            <td>Rich Mr. Dashwood dies, leaving his second wife and her daughters poor by the rules of inheritance. Two daughters are the titular opposites.</td>\n",
       "        </tr>\n",
       "        <tr>\n",
       "            <td>The Hitchhiker&#x27;s Guide to the Galaxy</td>\n",
       "            <td>2005-01-15 00:00:00.000000</td>\n",
       "            <td>Don&#x27;t leave Earth without it.</td>\n",
       "            <td>&quot;Mere seconds before the Earth is to be demolished by an alien construction crew, Arthur Dent is swept off the planet by his friend Ford Prefect, a researcher penning a new edition of &quot;&quot;The Hitchhiker&#x27;s Guide to the Galaxy.&quot;&quot;&quot;</td>\n",
       "        </tr>\n",
       "        <tr>\n",
       "            <td>Robin Hood: Prince of Thieves</td>\n",
       "            <td>1991-06-14 00:00:00.000000</td>\n",
       "            <td>For the good of all men, and the love of one woman, he fought to uphold justice by breaking the law.</td>\n",
       "            <td>When the dastardly Sheriff of Nottingham murders Robin&#x27;s father, the legendary archer vows vengeance. To accomplish his mission, Robin joins forces with a band of exiled villagers (and comely Maid Marian), and together they battle to end the evil sheriff&#x27;s reign of terror.</td>\n",
       "        </tr>\n",
       "        <tr>\n",
       "            <td>Quigley Down Under</td>\n",
       "            <td>1990-10-17 00:00:00.000000</td>\n",
       "            <td>There&#x27;s a price on his head. A girl on his mind. And a twinkle in his eye.</td>\n",
       "            <td>American Matt Quigley answers Australian land baron Elliott Marston&#x27;s ad for a sharpshooter to kill the dingoes on his property. But when Quigley finds out that Marston&#x27;s real target is the aborigines, Quigley hits the road. Now, even American expatriate Crazy Cora can&#x27;t keep Quigley safe in his cat-and-mouse game with the homicidal Marston.</td>\n",
       "        </tr>\n",
       "        <tr>\n",
       "            <td>Alice in Wonderland</td>\n",
       "            <td>2010-03-03 00:00:00.000000</td>\n",
       "            <td>You&#x27;re invited to a very important date.</td>\n",
       "            <td>Alice, an unpretentious and individual 19-year-old, is betrothed to a dunce of an English nobleman. At her engagement party, she escapes the crowd to consider whether to go through with the marriage and falls down a hole in the garden after spotting an unusual rabbit. Arriving in a strange and surreal place called &#x27;Underland,&#x27; she finds herself in a world that resembles the nightmares she had as a child, filled with talking animals, villainous queens and knights, and frumious bandersnatches. Alice realizes that she is there for a reason û to conquer the horrific Jabberwocky and restore the rightful queen to her throne.</td>\n",
       "        </tr>\n",
       "        <tr>\n",
       "            <td>Bottle Shock</td>\n",
       "            <td>2008-08-06 00:00:00.000000</td>\n",
       "            <td>Based on a true story of love, victory, and fermentation</td>\n",
       "            <td>Paris-based wine expert Steven Spurrier heads to California in search of cheap wine that he can use for a blind taste test in the French capital. Stumbling upon the Napa Valley, the stuck-up Englishman is shocked to discover a winery turning out top-notch chardonnay. Determined to make a name for himself, he sets about getting the booze back to Paris.</td>\n",
       "        </tr>\n",
       "        <tr>\n",
       "            <td>The Butler</td>\n",
       "            <td>2013-08-16 00:00:00.000000</td>\n",
       "            <td>One quiet voice can ignite a revolution.</td>\n",
       "            <td>A look at the life of Cecil Gaines who served eight presidents as the White House&#x27;s head butler from 1952 to 1986, and had a unique front-row seat as political and racial history was made.</td>\n",
       "        </tr>\n",
       "        <tr>\n",
       "            <td>Alice Through the Looking Glass</td>\n",
       "            <td>2016-05-25 00:00:00.000000</td>\n",
       "            <td>It&#x27;s time for a little madness.</td>\n",
       "            <td>&quot;In the sequel to Tim Burton&#x27;s &quot;&quot;Alice in Wonderland&quot;&quot;, Alice Kingsleigh returns to Underland and faces a new adventure in saving the Mad Hatter.&quot;</td>\n",
       "        </tr>\n",
       "    </tbody>\n",
       "</table>"
      ],
      "text/plain": [
       "[('Love Actually', '2003-09-07 00:00:00.000000', 'The ultimate romantic comedy.', 'Follows seemingly unrelated people as their lives begin to intertwine while they fall in û and out û of love. Affections languish and develop as Christmas draws near.'),\n",
       " ('Die Hard', '1988-07-15 00:00:00.000000', '40 Stories. Twelve Terrorists. One Cop.', \"NYPD cop, John McClane's plan to reconcile with his estranged wife is thrown for a serious loop when minutes after he arrives at her office, the enti ... (31 characters truncated) ... roup of terrorists. With little help from the LAPD, wisecracking McClane sets out to single-handedly rescue the hostages and bring the bad guys down.\"),\n",
       " (\"Harry Potter and the Philosopher's Stone\", '2001-11-16 00:00:00.000000', 'Let the Magic Begin.', \"Harry Potter has lived under the stairs at his aunt and uncle's house his whole life. But on his 11th birthday, he learns he's a powerful wizard -- w ... (114 characters truncated) ... d powers with the help of the school's kindly headmaster, Harry uncovers the truth about his parents' deaths -- and about the villain who's to blame.\"),\n",
       " ('Harry Potter and the Chamber of Secrets', '2002-11-13 00:00:00.000000', 'Hogwarts is back in session.', 'Ignoring threats to his life, Harry returns to Hogwarts to investigate û aided by Ron and Hermione û a mysterious series of attacks.'),\n",
       " ('Harry Potter and the Prisoner of Azkaban', '2004-05-31 00:00:00.000000', 'Something wicked this way comes.', 'Harry, Ron and Hermione return to Hogwarts for another magic-filled year. Harry comes face to face with danger yet again, this time in the form of escaped convict, Sirius Black û and turns to sympathetic Professor Lupin for help.'),\n",
       " ('Harry Potter and the Goblet of Fire', '2005-11-05 00:00:00.000000', 'Dark And Difficult Times Lie Ahead.', 'Harry starts his fourth year at Hogwarts, competes in the treacherous Triwizard Tournament and faces the evil Lord Voldemort. Ron and Hermione help Harry manage the pressure û but Voldemort lurks, awaiting his chance to destroy Harry and all that he stands for.'),\n",
       " ('Harry Potter and the Order of the Phoenix', '2007-06-28 00:00:00.000000', 'Evil Must Be Confronted.', \"Returning for his fifth year of study at Hogwarts, Harry is stunned to find that his warnings about the return of Lord Voldemort have been ignored. L ... (20 characters truncated) ... Harry takes matters into his own hands, training a small group of students û dubbed 'Dumbledore's Army' û to defend themselves against the dark arts.\"),\n",
       " ('Harry Potter and the Half-Blood Prince', '2009-07-07 00:00:00.000000', 'Dark Secrets Revealed', \"As Harry begins his sixth year at Hogwarts, he discovers an old book marked as 'Property of the Half-Blood Prince', and begins to learn more about Lord Voldemort's dark past.\"),\n",
       " ('Galaxy Quest', '1999-12-23 00:00:00.000000', 'A comedy of Galactic Proportions.', \"The stars of a 1970s sci-fi show - now scraping a living through re-runs and sci-fi conventions - are beamed aboard an alien spacecraft. Believing th ... (64 characters truncated) ... l-life adventures, the band of aliens turn to the ailing celebrities for help in their quest to overcome the oppressive regime in their solar system.\"),\n",
       " ('Perfume: The Story of a Murderer', '2006-09-13 00:00:00.000000', 'Based on the best-selling novel', \"Jean-Baptiste Grenouille, born in the stench of 18th century Paris, develops a superior olfactory sense, which he uses to create the world's finest perfumes. However, his work takes a dark turn as he tries to preserve scents in the search for the ultimate perfume.\"),\n",
       " ('Michael Collins', '1996-10-25 00:00:00.000000', \"Ireland, 1916. His Dreams Inspired Hope. His Words Ignited Passion. His Courage Forged A Nation's Destiny.\", 'Michael Collins plays a crucial role in the establishment of the Irish Free State in the 1920s, but becomes vilified by those hoping to create a completely independent Irish republic.'),\n",
       " ('Dogma', '1999-11-12 00:00:00.000000', 'It can be Hell getting into Heaven', 'The latest battle in the eternal war between Good and Evil has come to New Jersey in the late, late 20th Century. Angels, demons, apostles and prophets (of a sort) walk among the cynics and innocents of America and duke it out for the fate of humankind.'),\n",
       " ('Sense and Sensibility', '1995-12-13 00:00:00.000000', 'Lose your heart and come to your senses.', 'Rich Mr. Dashwood dies, leaving his second wife and her daughters poor by the rules of inheritance. Two daughters are the titular opposites.'),\n",
       " (\"The Hitchhiker's Guide to the Galaxy\", '2005-01-15 00:00:00.000000', \"Don't leave Earth without it.\", '\"Mere seconds before the Earth is to be demolished by an alien construction crew, Arthur Dent is swept off the planet by his friend Ford Prefect, a researcher penning a new edition of \"\"The Hitchhiker\\'s Guide to the Galaxy.\"\"\"'),\n",
       " ('Robin Hood: Prince of Thieves', '1991-06-14 00:00:00.000000', 'For the good of all men, and the love of one woman, he fought to uphold justice by breaking the law.', \"When the dastardly Sheriff of Nottingham murders Robin's father, the legendary archer vows vengeance. To accomplish his mission, Robin joins forces with a band of exiled villagers (and comely Maid Marian), and together they battle to end the evil sheriff's reign of terror.\"),\n",
       " ('Quigley Down Under', '1990-10-17 00:00:00.000000', \"There's a price on his head. A girl on his mind. And a twinkle in his eye.\", \"American Matt Quigley answers Australian land baron Elliott Marston's ad for a sharpshooter to kill the dingoes on his property. But when Quigley fin ... (45 characters truncated) ... igines, Quigley hits the road. Now, even American expatriate Crazy Cora can't keep Quigley safe in his cat-and-mouse game with the homicidal Marston.\"),\n",
       " ('Alice in Wonderland', '2010-03-03 00:00:00.000000', \"You're invited to a very important date.\", \"Alice, an unpretentious and individual 19-year-old, is betrothed to a dunce of an English nobleman. At her engagement party, she escapes the crowd to ... (328 characters truncated) ... ous bandersnatches. Alice realizes that she is there for a reason û to conquer the horrific Jabberwocky and restore the rightful queen to her throne.\"),\n",
       " ('Bottle Shock', '2008-08-06 00:00:00.000000', 'Based on a true story of love, victory, and fermentation', 'Paris-based wine expert Steven Spurrier heads to California in search of cheap wine that he can use for a blind taste test in the French capital. Stu ... (55 characters truncated) ...  shocked to discover a winery turning out top-notch chardonnay. Determined to make a name for himself, he sets about getting the booze back to Paris.'),\n",
       " ('The Butler', '2013-08-16 00:00:00.000000', 'One quiet voice can ignite a revolution.', \"A look at the life of Cecil Gaines who served eight presidents as the White House's head butler from 1952 to 1986, and had a unique front-row seat as political and racial history was made.\"),\n",
       " ('Alice Through the Looking Glass', '2016-05-25 00:00:00.000000', \"It's time for a little madness.\", '\"In the sequel to Tim Burton\\'s \"\"Alice in Wonderland\"\", Alice Kingsleigh returns to Underland and faces a new adventure in saving the Mad Hatter.\"')]"
      ]
     },
     "execution_count": 73,
     "metadata": {},
     "output_type": "execute_result"
    }
   ],
   "source": [
    "%%sql\n",
    "SELECT title, release_date, tagline, overview FROM Movies\n",
    "LEFT JOIN Casts ON Casts.movie_id = Movies.movie_id Left JOIN Actors ON Casts.actor_id = Actors.actor_id WHERE Actors.actor_name = 'Alan Rickman'"
   ]
  },
  {
   "cell_type": "markdown",
   "id": "42e9915e",
   "metadata": {},
   "source": [
    "### Question 15\n",
    "\n",
    "Which of the statements about database normalisation are true?\n",
    "\n",
    "**Statements:**\n",
    " \n",
    "i) Database normalisation improves data redundancy, saves on storage space, and fulfils the requirement of records to be uniquely identified.\n",
    "\n",
    "ii) Database normalisation supports up to the Third Normal Form and removes all data anomalies.\n",
    "\n",
    "iii) Database normalisation removes inconsistencies that may cause the analysis of our data to be more complicated.\n",
    "\n",
    "iv) Database normalisation increases data redundancy, saves on storage space, and fulfils the requirement of records to be uniquely identified.\n",
    "\n",
    "**Options:**\n",
    "\n",
    " - (i) and (ii)\n",
    " - (i) and (iii)\n",
    " - (ii) and (iv)\n",
    " - (iii) and (iv)"
   ]
  },
  {
   "cell_type": "markdown",
   "id": "26fd094b-0fee-46f1-a4b8-73766813c42b",
   "metadata": {
    "tags": []
   },
   "source": [
    "#  \n",
    "\n",
    "<div align=\"center\" style=\" font-size: 80%; text-align: center; margin: 0 auto\">\n",
    "<img src=\"https://raw.githubusercontent.com/Explore-AI/Pictures/master/ExploreAI_logos/EAI_Blue_Dark.png\"  style=\"width:200px\";/>\n",
    "</div>"
   ]
  }
 ],
 "metadata": {
  "kernelspec": {
   "display_name": "Python 3 (ipykernel)",
   "language": "python",
   "name": "python3"
  },
  "language_info": {
   "codemirror_mode": {
    "name": "ipython",
    "version": 3
   },
   "file_extension": ".py",
   "mimetype": "text/x-python",
   "name": "python",
   "nbconvert_exporter": "python",
   "pygments_lexer": "ipython3",
   "version": "3.11.5"
  }
 },
 "nbformat": 4,
 "nbformat_minor": 5
}
